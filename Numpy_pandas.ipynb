{
 "cells": [
  {
   "cell_type": "code",
   "execution_count": 91,
   "metadata": {},
   "outputs": [
    {
     "name": "stdout",
     "output_type": "stream",
     "text": [
      "Requirement already satisfied: numpy in c:\\python\\python3.12\\lib\\site-packages (2.1.1)\n",
      "Note: you may need to restart the kernel to use updated packages.\n"
     ]
    }
   ],
   "source": [
    "pip install numpy\n"
   ]
  },
  {
   "cell_type": "code",
   "execution_count": 92,
   "metadata": {},
   "outputs": [
    {
     "name": "stdout",
     "output_type": "stream",
     "text": [
      "2.1.1\n"
     ]
    }
   ],
   "source": [
    "import numpy as np\n",
    "print(np.__version__)"
   ]
  },
  {
   "cell_type": "code",
   "execution_count": 93,
   "metadata": {},
   "outputs": [
    {
     "name": "stdout",
     "output_type": "stream",
     "text": [
      "<class 'numpy.ndarray'>\n",
      "[1 2 3 4 5 6 7 8 9]\n"
     ]
    }
   ],
   "source": [
    "#Create a NumPy array containing the numbers from 0 to 9\n",
    "\n",
    "my_lst = [1,2,3,4,5,6,7,8,9]\n",
    "\n",
    "import numpy as np  # Import NumPy with alias np\n",
    "\n",
    "arr = np.array(my_lst)\n",
    "\n",
    "# Check type of the array\n",
    "print(type(arr))  # This will output: <class 'numpy.ndarray'>\n",
    "\n",
    "# Print the array\n",
    "print(arr)"
   ]
  },
  {
   "cell_type": "code",
   "execution_count": 94,
   "metadata": {},
   "outputs": [
    {
     "name": "stdout",
     "output_type": "stream",
     "text": [
      "Array: [1 2 3 4 5 6 7 8 9]\n",
      "Shape: (9,)\n",
      "Data type: int64\n"
     ]
    }
   ],
   "source": [
    "#Create a NumPy array containing the numbers from 1 to 9\n",
    "my_lst = [1,2,3,4,5,6,7,8,9]\n",
    "\n",
    "arr = np.array(my_lst)\n",
    "\n",
    "#check the shape  of the array\n",
    "shape = arr.shape\n",
    "\n",
    "#check the data type of the array\n",
    "data_type = arr.dtype\n",
    "\n",
    "# Print the shape, data type, and the array itself\n",
    "print(\"Array:\", arr)\n",
    "print(\"Shape:\", shape) \n",
    "print(\"Data type:\", data_type) \n"
   ]
  },
  {
   "cell_type": "code",
   "execution_count": 95,
   "metadata": {},
   "outputs": [
    {
     "name": "stdout",
     "output_type": "stream",
     "text": [
      "Array:\n",
      " [[1 2 3 4]\n",
      " [4 6 7 8]\n",
      " [0 9 1 2]]\n",
      "Shape: (3, 4)\n",
      "Data type: int64\n"
     ]
    }
   ],
   "source": [
    "# Create a 2D array with shape (3, 4) filled with integers between 0 and 10\n",
    "my_lst1 = [1,2,3,4]\n",
    "my_lst2 = [4,6,7,8]\n",
    "my_lst3 = [0,9,1,2]\n",
    "\n",
    "arr = np.array([my_lst1,my_lst2,my_lst3])\n",
    "\n",
    "#check the shape  of the array\n",
    "shape = arr.shape\n",
    "\n",
    "#check the data type of the array\n",
    "data_type = arr.dtype\n",
    "\n",
    "# Print the shape, data type, and the array itself\n",
    "print(\"Array:\\n\", arr)\n",
    "print(\"Shape:\", shape) \n",
    "print(\"Data type:\", data_type) \n"
   ]
  },
  {
   "cell_type": "code",
   "execution_count": 96,
   "metadata": {},
   "outputs": [
    {
     "name": "stdout",
     "output_type": "stream",
     "text": [
      "reshaped arr:\n",
      " [[1 2 3 4]\n",
      " [5 6 7 8]]\n"
     ]
    }
   ],
   "source": [
    "#Given the array arr = np.array([1, 2, 3, 4, 5, 6, 7, 8]), reshape it into a 2x4 matrix.\n",
    "my_lst = [1,2,3,4,5,6,7,8]\n",
    "\n",
    "arr = np.array(my_lst)\n",
    "\n",
    "#check to reshape the array into 2x4 matrix\n",
    "\n",
    "reshaped_arr = arr.reshape(2, 4)\n",
    "\n",
    "print(\"reshaped arr:\\n\", reshaped_arr)"
   ]
  },
  {
   "cell_type": "code",
   "execution_count": 97,
   "metadata": {},
   "outputs": [
    {
     "name": "stdout",
     "output_type": "stream",
     "text": [
      "Element in the 2nd row and 3rd column: 6\n"
     ]
    }
   ],
   "source": [
    "import numpy as np\n",
    "\n",
    "# Given 2D array\n",
    "arr = np.array([[1, 2, 3],\n",
    "                 [4, 5, 6],\n",
    "                 [7, 8, 9]])\n",
    "\n",
    "# Extract the element in the 2nd row and 3rd column\n",
    "element = arr[1, 2]\n",
    "\n",
    "# Print the extracted element\n",
    "print(\"Element in the 2nd row and 3rd column:\", element)"
   ]
  },
  {
   "cell_type": "code",
   "execution_count": 98,
   "metadata": {},
   "outputs": [
    {
     "name": "stdout",
     "output_type": "stream",
     "text": [
      "Element in the 2nd row and 2nd column: 9\n"
     ]
    }
   ],
   "source": [
    "import numpy as np\n",
    "\n",
    "#Given 2D array\n",
    "arr = np.array([[1,2,3],\n",
    "                [4,5,6],\n",
    "                [7,8,9]])\n",
    "\n",
    "#Extract the element in the 2nd row and 2nd column\n",
    "element = arr[2,2]\n",
    "\n",
    "#print the extracted element\n",
    "print(\"Element in the 2nd row and 2nd column:\", element)"
   ]
  },
  {
   "cell_type": "code",
   "execution_count": 99,
   "metadata": {},
   "outputs": [
    {
     "name": "stdout",
     "output_type": "stream",
     "text": [
      "Element in the 3rd row and 3rd column: 16\n"
     ]
    }
   ],
   "source": [
    "import numpy as np\n",
    "\n",
    "#Given 3D array\n",
    "arr = np.array([[1,2,3, 4],\n",
    "                [5,6,7,8],\n",
    "                [9,10,11, 12],\n",
    "                [13,14,15,16]])\n",
    "\n",
    "#Extract the element in the 3rd row and 3rd column\n",
    "element = arr[3,3]\n",
    "\n",
    "#print the extracted element\n",
    "print(\"Element in the 3rd row and 3rd column:\", element)"
   ]
  },
  {
   "cell_type": "code",
   "execution_count": 100,
   "metadata": {},
   "outputs": [
    {
     "name": "stdout",
     "output_type": "stream",
     "text": [
      "Original Array: [0 1 2 3 4 5 6 7 8 9]\n",
      "Extracted Elements (index 2 to index 6): [2 3 4 5]\n"
     ]
    }
   ],
   "source": [
    "import numpy as np\n",
    "\n",
    "# Given 1D array using np.arange\n",
    "arr = np.arange(10)  # This creates an array with elements from 0 to 9\n",
    "\n",
    "# Extract elements from index 2 to index 6 (not inclusive)\n",
    "extracted_elements = arr[2:6]\n",
    "\n",
    "# Print the original array and the extracted elements\n",
    "print(\"Original Array:\", arr)\n",
    "print(\"Extracted Elements (index 2 to index 6):\", extracted_elements)"
   ]
  },
  {
   "cell_type": "code",
   "execution_count": 101,
   "metadata": {},
   "outputs": [
    {
     "name": "stdout",
     "output_type": "stream",
     "text": [
      "Array 1: [1 2 3]\n",
      "Array2: [4 5 6]\n",
      "element-wise addition: [5 7 9]\n",
      "element-wise subtraction: [-3 -3 -3]\n",
      "element-wise multiplication: [ 4 10 18]\n"
     ]
    }
   ],
   "source": [
    "#Element-Wise Operations\n",
    "\n",
    "#create two Numpy arrays,\n",
    "arr1 = np.array([1, 2, 3])\n",
    "arr2 = np.array([4, 5, 6])\n",
    "\n",
    "Val = 2\n",
    "\n",
    "addition = arr1 + arr2\n",
    "\n",
    "subtraction = arr1 - arr2\n",
    "\n",
    "multiplication = arr1 * arr2\n",
    "\n",
    "#exploratory data analysis\n",
    "\n",
    "#Perform element-wise addition, subtraction, and multiplication\n",
    "#print the results\n",
    "\n",
    "print(\"Array 1:\", arr1)\n",
    "print(\"Array2:\", arr2)\n",
    "print(\"element-wise addition:\", addition)\n",
    "print(\"element-wise subtraction:\", subtraction)\n",
    "print(\"element-wise multiplication:\", multiplication)\n"
   ]
  },
  {
   "cell_type": "code",
   "execution_count": 102,
   "metadata": {},
   "outputs": [
    {
     "name": "stdout",
     "output_type": "stream",
     "text": [
      "Original Array: [1 2 3 4 5]\n",
      "Array after adding 10 to each element: [11 12 13 14 15]\n"
     ]
    }
   ],
   "source": [
    "import numpy as np\n",
    "\n",
    "#Given array\n",
    "arr = np.array ([1, 2, 3, 4, 5])\n",
    "\n",
    "# Add scalar value 10 to each element of the array using broadcasting\n",
    "result = arr + 10\n",
    "# Print the original array and the result\n",
    "print(\"Original Array:\", arr)\n",
    "print(\"Array after adding 10 to each element:\", result)\n",
    "               "
   ]
  },
  {
   "cell_type": "code",
   "execution_count": 103,
   "metadata": {},
   "outputs": [
    {
     "name": "stdout",
     "output_type": "stream",
     "text": [
      "Array: [47 24  8 42  6  1 39 50 20  4  8 15 22  6 31]\n",
      "Mean: 21.533333333333335\n",
      "Median: 20.0\n",
      "Standard Deviation: 16.128098324215273\n"
     ]
    }
   ],
   "source": [
    "#Create a NumPy array of 15 random integers between 0 and 50. Find the mean, median, and standard deviation of the array\n",
    "\n",
    "# Create a NumPy array of 15 random integers between 0 and 50\n",
    "arr = np.random.randint(0, 51, size=15)\n",
    "\n",
    "# Calculate the mean, median, and standard deviation\n",
    "mean = np.mean(arr)\n",
    "median = np.median(arr)\n",
    "std_dev = np.std(arr)\n",
    "\n",
    "# Print the results\n",
    "print(\"Array:\", arr)\n",
    "print(\"Mean:\", mean)\n",
    "print(\"Median:\", median)\n",
    "print(\"Standard Deviation:\", std_dev)"
   ]
  },
  {
   "cell_type": "code",
   "execution_count": 104,
   "metadata": {},
   "outputs": [
    {
     "name": "stdout",
     "output_type": "stream",
     "text": [
      "Original Array: [10 20 30 40 50]\n",
      "Elements greater than 25: [30 40 50]\n"
     ]
    }
   ],
   "source": [
    "import numpy as np\n",
    "\n",
    "# Given array\n",
    "arr = np.array([10, 20, 30, 40, 50])\n",
    "\n",
    "# Extract elements greater than 25\n",
    "extracted_elements = arr[arr > 25]\n",
    "\n",
    "# Print the result\n",
    "print(\"Original Array:\", arr)\n",
    "print(\"Elements greater than 25:\", extracted_elements)"
   ]
  },
  {
   "cell_type": "code",
   "execution_count": 105,
   "metadata": {},
   "outputs": [
    {
     "name": "stdout",
     "output_type": "stream",
     "text": [
      "Array 1: [1 2 3]\n",
      "Array 2: [4 5 6]\n",
      "Concatenated Array: [1 2 3 4 5 6]\n"
     ]
    }
   ],
   "source": [
    "#Create two arrays \n",
    "arr1 = np.array([1, 2, 3]) \n",
    "arr2 = np.array([4, 5, 6])\n",
    "#Concatenate them into a single array\n",
    "concatenated_array = np.concatenate((arr1, arr2))\n",
    "\n",
    "# Print the result\n",
    "print(\"Array 1:\", arr1)\n",
    "print(\"Array 2:\", arr2)\n",
    "print(\"Concatenated Array:\", concatenated_array)"
   ]
  },
  {
   "cell_type": "code",
   "execution_count": 106,
   "metadata": {},
   "outputs": [
    {
     "name": "stdout",
     "output_type": "stream",
     "text": [
      "DataFrame:\n",
      "   Name  Age Department\n",
      "0   San   28         HR\n",
      "1  Jane   34         IT\n",
      "2   Doe   29    Finance\n",
      "\n",
      "DataFrame saved as 'data.csv'.\n"
     ]
    }
   ],
   "source": [
    "import pandas as pd\n",
    "\n",
    "# Sample dictionary\n",
    "data = {\n",
    "    \"Name\": [\"San\", \"Jane\", \"Doe\"],\n",
    "    \"Age\": [28, 34, 29],\n",
    "    \"Department\": [\"HR\", \"IT\", \"Finance\"]\n",
    "}\n",
    "\n",
    "# Task 1: Create and display the DataFrame\n",
    "df = pd.DataFrame(data)\n",
    "print(\"DataFrame:\")\n",
    "print(df)\n",
    "\n",
    "# Task 2: Save the DataFrame as \"data.csv\"\n",
    "df.to_csv(\"data.csv\", index=False)\n",
    "\n",
    "# Confirmation message\n",
    "print(\"\\nDataFrame saved as 'data.csv'.\")\n"
   ]
  },
  {
   "cell_type": "code",
   "execution_count": 107,
   "metadata": {},
   "outputs": [
    {
     "name": "stdout",
     "output_type": "stream",
     "text": [
      "First 5 rows of the DataFrame:\n",
      "   Name  Age Department\n",
      "0   San   28         HR\n",
      "1  Jane   34         IT\n",
      "2   Doe   29    Finance\n"
     ]
    }
   ],
   "source": [
    "import pandas as pd\n",
    "\n",
    "# Task 1: Read the CSV file into a DataFrame\n",
    "df = pd.read_csv(\"data.csv\")\n",
    "\n",
    "# Task 2: Display the first 5 rows of the DataFrame\n",
    "print(\"First 5 rows of the DataFrame:\")\n",
    "print(df.head())\n"
   ]
  },
  {
   "cell_type": "code",
   "execution_count": 108,
   "metadata": {},
   "outputs": [
    {
     "name": "stdout",
     "output_type": "stream",
     "text": [
      "Name column:\n",
      "0     San\n",
      "1    Jane\n",
      "2     Doe\n",
      "Name: Name, dtype: object\n"
     ]
    }
   ],
   "source": [
    "import pandas as pd\n",
    "\n",
    "# Task 1: Read the CSV file into a DataFrame\n",
    "df = pd.read_csv(\"data.csv\")\n",
    "\n",
    "# Task 2: Select and display the \"Name\" column\n",
    "print(\"Name column:\")\n",
    "print(df[\"Name\"])\n"
   ]
  },
  {
   "cell_type": "code",
   "execution_count": 109,
   "metadata": {},
   "outputs": [],
   "source": [
    "#Length of values (4) does not match length of index (3), indicates that you're trying to add a new column with 4 values to a DataFrame that currently has only 3 rows.\n",
    "#The number of elements you add to a column must match the number of rows in the DataFrame. Since your DataFrame is created from data.csv, which is initially defined with 3 entries, should provide 3 salary values instead of 4."
   ]
  },
  {
   "cell_type": "code",
   "execution_count": 110,
   "metadata": {},
   "outputs": [
    {
     "name": "stdout",
     "output_type": "stream",
     "text": [
      "Updated DataFrame with 'Salary' column:\n",
      "   Name  Age Department  Salary\n",
      "0   San   28         HR   50000\n",
      "1  Jane   34         IT   60000\n",
      "2   Doe   29    Finance   70000\n"
     ]
    }
   ],
   "source": [
    "import pandas as pd\n",
    "\n",
    "# Task 1: Read the CSV file into a DataFrame\n",
    "df = pd.read_csv(\"data.csv\")\n",
    "\n",
    "# Task 2: Add a new column \"Salary\" to the DataFrame\n",
    "df[\"Salary\"] = [50000, 60000, 70000]\n",
    "\n",
    "# Task 3: Display the updated DataFrame\n",
    "print(\"Updated DataFrame with 'Salary' column:\")\n",
    "print(df)"
   ]
  }
 ],
 "metadata": {
  "kernelspec": {
   "display_name": "Python 3",
   "language": "python",
   "name": "python3"
  },
  "language_info": {
   "codemirror_mode": {
    "name": "ipython",
    "version": 3
   },
   "file_extension": ".py",
   "mimetype": "text/x-python",
   "name": "python",
   "nbconvert_exporter": "python",
   "pygments_lexer": "ipython3",
   "version": "3.12.6"
  }
 },
 "nbformat": 4,
 "nbformat_minor": 2
}
