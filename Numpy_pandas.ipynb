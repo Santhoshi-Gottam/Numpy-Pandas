{
 "cells": [
  {
   "cell_type": "code",
   "execution_count": 12,
   "metadata": {},
   "outputs": [
    {
     "name": "stdout",
     "output_type": "stream",
     "text": [
      "Requirement already satisfied: numpy in c:\\python\\python3.12\\lib\\site-packages (2.1.1)\n",
      "Note: you may need to restart the kernel to use updated packages.\n"
     ]
    }
   ],
   "source": [
    "pip install numpy\n"
   ]
  },
  {
   "cell_type": "code",
   "execution_count": 13,
   "metadata": {},
   "outputs": [
    {
     "name": "stdout",
     "output_type": "stream",
     "text": [
      "2.1.1\n"
     ]
    }
   ],
   "source": [
    "import numpy as np\n",
    "print(np.__version__)"
   ]
  },
  {
   "cell_type": "code",
   "execution_count": 14,
   "metadata": {},
   "outputs": [
    {
     "name": "stdout",
     "output_type": "stream",
     "text": [
      "<class 'numpy.ndarray'>\n",
      "[1 2 3 4 5 6 7 8 9]\n"
     ]
    }
   ],
   "source": [
    "#Create a NumPy array containing the numbers from 0 to 9\n",
    "\n",
    "my_lst = [1,2,3,4,5,6,7,8,9]\n",
    "\n",
    "import numpy as np  # Import NumPy with alias np\n",
    "\n",
    "arr = np.array(my_lst)\n",
    "\n",
    "# Check type of the array\n",
    "print(type(arr))  # This will output: <class 'numpy.ndarray'>\n",
    "\n",
    "# Print the array\n",
    "print(arr)"
   ]
  },
  {
   "cell_type": "code",
   "execution_count": 15,
   "metadata": {},
   "outputs": [
    {
     "name": "stdout",
     "output_type": "stream",
     "text": [
      "Array: [1 2 3 4 5 6 7 8 9]\n",
      "Shape: (9,)\n",
      "Data type: int64\n"
     ]
    }
   ],
   "source": [
    "#Create a NumPy array containing the numbers from 1 to 9\n",
    "my_lst = [1,2,3,4,5,6,7,8,9]\n",
    "\n",
    "arr = np.array(my_lst)\n",
    "\n",
    "#check the shape  of the array\n",
    "shape = arr.shape\n",
    "\n",
    "#check the data type of the array\n",
    "data_type = arr.dtype\n",
    "\n",
    "# Print the shape, data type, and the array itself\n",
    "print(\"Array:\", arr)\n",
    "print(\"Shape:\", shape) \n",
    "print(\"Data type:\", data_type) \n"
   ]
  },
  {
   "cell_type": "code",
   "execution_count": 16,
   "metadata": {},
   "outputs": [
    {
     "name": "stdout",
     "output_type": "stream",
     "text": [
      "Array:\n",
      " [[1 2 3 4]\n",
      " [4 6 7 8]\n",
      " [0 9 1 2]]\n",
      "Shape: (3, 4)\n",
      "Data type: int64\n"
     ]
    }
   ],
   "source": [
    "# Create a 2D array with shape (3, 4) filled with integers between 0 and 10\n",
    "my_lst1 = [1,2,3,4]\n",
    "my_lst2 = [4,6,7,8]\n",
    "my_lst3 = [0,9,1,2]\n",
    "\n",
    "arr = np.array([my_lst1,my_lst2,my_lst3])\n",
    "\n",
    "#check the shape  of the array\n",
    "shape = arr.shape\n",
    "\n",
    "#check the data type of the array\n",
    "data_type = arr.dtype\n",
    "\n",
    "# Print the shape, data type, and the array itself\n",
    "print(\"Array:\\n\", arr)\n",
    "print(\"Shape:\", shape) \n",
    "print(\"Data type:\", data_type) \n"
   ]
  },
  {
   "cell_type": "code",
   "execution_count": 17,
   "metadata": {},
   "outputs": [
    {
     "name": "stdout",
     "output_type": "stream",
     "text": [
      "reshaped arr:\n",
      " [[1 2 3 4]\n",
      " [5 6 7 8]]\n"
     ]
    }
   ],
   "source": [
    "#Given the array arr = np.array([1, 2, 3, 4, 5, 6, 7, 8]), reshape it into a 2x4 matrix.\n",
    "my_lst = [1,2,3,4,5,6,7,8]\n",
    "\n",
    "arr = np.array(my_lst)\n",
    "\n",
    "#check to reshape the array into 2x4 matrix\n",
    "\n",
    "reshaped_arr = arr.reshape(2, 4)\n",
    "\n",
    "print(\"reshaped arr:\\n\", reshaped_arr)"
   ]
  },
  {
   "cell_type": "code",
   "execution_count": 18,
   "metadata": {},
   "outputs": [
    {
     "name": "stdout",
     "output_type": "stream",
     "text": [
      "Element in the 2nd row and 3rd column: 6\n"
     ]
    }
   ],
   "source": [
    "import numpy as np\n",
    "\n",
    "# Given 2D array\n",
    "arr = np.array([[1, 2, 3],\n",
    "                 [4, 5, 6],\n",
    "                 [7, 8, 9]])\n",
    "\n",
    "# Extract the element in the 2nd row and 3rd column\n",
    "element = arr[1, 2]\n",
    "\n",
    "# Print the extracted element\n",
    "print(\"Element in the 2nd row and 3rd column:\", element)"
   ]
  },
  {
   "cell_type": "code",
   "execution_count": 19,
   "metadata": {},
   "outputs": [
    {
     "name": "stdout",
     "output_type": "stream",
     "text": [
      "Element in the 2nd row and 2nd column: 9\n"
     ]
    }
   ],
   "source": [
    "import numpy as np\n",
    "\n",
    "#Given 2D array\n",
    "arr = np.array([[1,2,3],\n",
    "                [4,5,6],\n",
    "                [7,8,9]])\n",
    "\n",
    "#Extract the element in the 2nd row and 2nd column\n",
    "element = arr[2,2]\n",
    "\n",
    "#print the extracted element\n",
    "print(\"Element in the 2nd row and 2nd column:\", element)"
   ]
  },
  {
   "cell_type": "code",
   "execution_count": 20,
   "metadata": {},
   "outputs": [
    {
     "name": "stdout",
     "output_type": "stream",
     "text": [
      "Element in the 3rd row and 3rd column: 16\n"
     ]
    }
   ],
   "source": [
    "import numpy as np\n",
    "\n",
    "#Given 3D array\n",
    "arr = np.array([[1,2,3, 4],\n",
    "                [5,6,7,8],\n",
    "                [9,10,11, 12],\n",
    "                [13,14,15,16]])\n",
    "\n",
    "#Extract the element in the 3rd row and 3rd column\n",
    "element = arr[3,3]\n",
    "\n",
    "#print the extracted element\n",
    "print(\"Element in the 3rd row and 3rd column:\", element)"
   ]
  },
  {
   "cell_type": "code",
   "execution_count": 21,
   "metadata": {},
   "outputs": [
    {
     "name": "stdout",
     "output_type": "stream",
     "text": [
      "Original Array: [0 1 2 3 4 5 6 7 8 9]\n",
      "Extracted Elements (index 2 to index 6): [2 3 4 5]\n"
     ]
    }
   ],
   "source": [
    "import numpy as np\n",
    "\n",
    "# Given 1D array using np.arange\n",
    "arr = np.arange(10)  # This creates an array with elements from 0 to 9\n",
    "\n",
    "# Extract elements from index 2 to index 6 (not inclusive)\n",
    "extracted_elements = arr[2:6]\n",
    "\n",
    "# Print the original array and the extracted elements\n",
    "print(\"Original Array:\", arr)\n",
    "print(\"Extracted Elements (index 2 to index 6):\", extracted_elements)"
   ]
  },
  {
   "cell_type": "code",
   "execution_count": 25,
   "metadata": {},
   "outputs": [
    {
     "name": "stdout",
     "output_type": "stream",
     "text": [
      "Array 1: [1 2 3]\n",
      "Array2: [4 5 6]\n",
      "element-wise addition: [5 7 9]\n",
      "element-wise subtraction: [-3 -3 -3]\n",
      "element-wise multiplication: [ 4 10 18]\n"
     ]
    }
   ],
   "source": [
    "#Element-Wise Operations\n",
    "\n",
    "#create two Numpy arrays,\n",
    "arr1 = np.array([1, 2, 3])\n",
    "arr2 = np.array([4, 5, 6])\n",
    "\n",
    "Val = 2\n",
    "\n",
    "#addition = arr1 + arr2\n",
    "\n",
    "#subtraction = arr1 - arr2\n",
    "\n",
    "#multiplication = arr1 * arr2\n",
    "\n",
    "#exploratory data analysis\n",
    "\n",
    "arr*2\n",
    "arr+2\n",
    "arr-2\n",
    "\n",
    "#Perform element-wise addition, subtraction, and multiplication\n",
    "#print the results\n",
    "\n",
    "print(\"Array 1:\", arr1)\n",
    "print(\"Array2:\", arr2)\n",
    "print(\"element-wise addition:\", addition)\n",
    "print(\"element-wise subtraction:\", subtraction)\n",
    "print(\"element-wise multiplication:\", multiplication)\n"
   ]
  }
 ],
 "metadata": {
  "kernelspec": {
   "display_name": "Python 3",
   "language": "python",
   "name": "python3"
  },
  "language_info": {
   "codemirror_mode": {
    "name": "ipython",
    "version": 3
   },
   "file_extension": ".py",
   "mimetype": "text/x-python",
   "name": "python",
   "nbconvert_exporter": "python",
   "pygments_lexer": "ipython3",
   "version": "3.12.6"
  }
 },
 "nbformat": 4,
 "nbformat_minor": 2
}
